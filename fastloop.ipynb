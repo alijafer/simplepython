{
 "cells": [
  {
   "cell_type": "markdown",
   "metadata": {},
   "source": [
    "# This notebook show the comparison of the fastest way to do summation in python"
   ]
  },
  {
   "cell_type": "markdown",
   "metadata": {},
   "source": [
    "import library \n",
    "###### if don't install numpy or numba have run [this](#import_install)\n"
   ]
  },
  {
   "cell_type": "code",
   "execution_count": 1,
   "metadata": {},
   "outputs": [],
   "source": [
    "import timeit\n",
    "import numpy as np\n",
    "from numba import njit # njit mean No Python mode"
   ]
  },
  {
   "cell_type": "markdown",
   "metadata": {},
   "source": [
    "function define of wile loop that sum from 1 to 100,000,000 numbers"
   ]
  },
  {
   "cell_type": "code",
   "execution_count": 2,
   "metadata": {},
   "outputs": [],
   "source": [
    "def while_loop(n=100000000):\n",
    "    i = 0\n",
    "    s = 0\n",
    "    while i < n:\n",
    "        s += i\n",
    "        i += 1\n",
    "    return s"
   ]
  },
  {
   "cell_type": "markdown",
   "metadata": {},
   "source": [
    "function define of for loop that sum from 1 to 100,000,000 numbers"
   ]
  },
  {
   "cell_type": "code",
   "execution_count": 3,
   "metadata": {},
   "outputs": [],
   "source": [
    "def for_loop(n=100000000):\n",
    "    s = 0\n",
    "    for i in range(n):\n",
    "        s += i\n",
    "    return s"
   ]
  },
  {
   "cell_type": "markdown",
   "metadata": {},
   "source": [
    "function define that retuen sum from 1 to 100,000,000 numbers useing python core"
   ]
  },
  {
   "cell_type": "code",
   "execution_count": 4,
   "metadata": {},
   "outputs": [],
   "source": [
    "def sum_range(n=100000000):\n",
    "    return sum(range(n))"
   ]
  },
  {
   "cell_type": "markdown",
   "metadata": {},
   "source": [
    "function define that retuen numpy sum from 1 to 100,000,000 numbers useing C core"
   ]
  },
  {
   "cell_type": "code",
   "execution_count": 5,
   "metadata": {},
   "outputs": [],
   "source": [
    "def sum_numpy(n=100000000):\n",
    "    return np.sum(np.arange(n))"
   ]
  },
  {
   "cell_type": "markdown",
   "metadata": {},
   "source": [
    "function define that retuen numpy sum from 1 to 100,000,000 numbers useing C core then decorator to njit numba =` @jit(nopython=True)  Set \"nopython\" mode for best performance, equivalent to @njit`"
   ]
  },
  {
   "cell_type": "code",
   "execution_count": 6,
   "metadata": {},
   "outputs": [],
   "source": [
    "def sum_numba(n=100000000):\n",
    "    return np.sum(np.arange(n))\n",
    "sum_numba_njit = njit() (sum_numba)"
   ]
  },
  {
   "cell_type": "markdown",
   "metadata": {},
   "source": [
    "### now will run all 🤞"
   ]
  },
  {
   "cell_type": "code",
   "execution_count": 7,
   "metadata": {},
   "outputs": [
    {
     "name": "stdout",
     "output_type": "stream",
     "text": [
      "wile loop \t\t 8.825935\n",
      "for loop \t\t 5.537341\n",
      "sum range \t\t 2.6237441000000015\n",
      "sum numpy \t\t 0.13913439999999966\n",
      "sum numba \t\t 0.6068730999999978\n"
     ]
    }
   ],
   "source": [
    "\n",
    "print(\"wile loop \\t\\t\", timeit.timeit(while_loop, number=1))\n",
    "print(\"for loop \\t\\t\", timeit.timeit(for_loop, number=1))\n",
    "print(\"sum range \\t\\t\", timeit.timeit(sum_range, number=1))\n",
    "print(\"sum numpy \\t\\t\", timeit.timeit(sum_numpy, number=1))\n",
    "print(\"sum numba \\t\\t\", timeit.timeit(sum_numba_njit, number=1))"
   ]
  },
  {
   "cell_type": "markdown",
   "metadata": {},
   "source": [
    "The fastest is numpy 🏆 then numba then sum range then for loop \n",
    "\n",
    "The worstest is wihe loop"
   ]
  },
  {
   "cell_type": "markdown",
   "metadata": {},
   "source": [
    "#  Resours \n",
    "* [numpy](https://numpy.org/)\n",
    "* [Numba](https://numba.pydata.org/) is an open source JIT compiler that translates a subset of Python and NumPy code into fast machine code. \n",
    "\n",
    "thanks to [mCodingLLC](https://github.com/mCodingLLC)"
   ]
  },
  {
   "cell_type": "markdown",
   "metadata": {},
   "source": [
    "<a id='import_install'></a>\n",
    "\n",
    "if you want to run insatall remove `%%script false`"
   ]
  },
  {
   "cell_type": "code",
   "execution_count": 8,
   "metadata": {},
   "outputs": [
    {
     "name": "stdout",
     "output_type": "stream",
     "text": [
      "Couldn't find program: 'false'\n"
     ]
    }
   ],
   "source": [
    "%%script false \n",
    "import sys\n",
    "!{sys.executable} -m pip install numpy\n",
    "!{sys.executable} -m pip install numba\n",
    "#!{sys.executable} -m conda  install numpy\n",
    "#!{sys.executable} -m conda  install numba"
   ]
  }
 ],
 "metadata": {
  "kernelspec": {
   "display_name": "Python 3",
   "language": "python",
   "name": "python3"
  },
  "language_info": {
   "codemirror_mode": {
    "name": "ipython",
    "version": 3
   },
   "file_extension": ".py",
   "mimetype": "text/x-python",
   "name": "python",
   "nbconvert_exporter": "python",
   "pygments_lexer": "ipython3",
   "version": "3.8.5"
  }
 },
 "nbformat": 4,
 "nbformat_minor": 2
}
